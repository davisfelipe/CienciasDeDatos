{
 "cells": [
  {
   "cell_type": "markdown",
   "metadata": {},
   "source": [
    "# Tutorial Algebra Lineal\n",
    "## Resumen\n",
    "En el siguiente tutorial se desarrollara una pequeña implementacion que ayude al aprendiz a obtener una serie de ayudas para desarrollar operaciones de algebra lineal para vectores y matrices en **Python**, dichas operaciones se lograran gracias a la ayuda de ***numpy*** con una de sus sublibrerias denominada ***linalg*** \"_**lin**ear **alg**ebra_\""
   ]
  },
  {
   "cell_type": "markdown",
   "metadata": {},
   "source": [
    "Inicialmente cargamos las librerias que usaremos, procedemos a cargar **numpy** y **numpy.linalg** respectivamente con la abreviacion que se usara dentro del codigo."
   ]
  },
  {
   "cell_type": "code",
   "execution_count": 1,
   "metadata": {},
   "outputs": [],
   "source": [
    "import numpy as np\n",
    "from numpy import linalg as la"
   ]
  },
  {
   "cell_type": "markdown",
   "metadata": {},
   "source": [
    "Posteriormente a importar las librerias a usar, debemos declarar variables con las que vamos a trabajar, en nuestro caso sera suficiente generar 2 vectores de 5 elementos y 2 matrices de 5x5."
   ]
  },
  {
   "cell_type": "code",
   "execution_count": 2,
   "metadata": {},
   "outputs": [],
   "source": [
    "a=np.arange(0,5)\n",
    "b=np.arange(5,10)\n",
    "ma=np.arange(25).reshape(5,5)\n",
    "mb=np.arange(25,50).reshape(5,5)"
   ]
  },
  {
   "cell_type": "markdown",
   "metadata": {
    "scrolled": true
   },
   "source": [
    "### Propiedades de matrices\n",
    "Algunas de las propiedades mas basicas de las matrices son fundamentales al realizar operaciones en el algebra lineal fundamental, a continuacion presentaremos con algunos de los ejemplos las propiedades elementales realizadas mediante la libreria linalg.\n",
    "* Matriz inversa\n",
    "* Determinante de la matriz\n",
    "* Logaritmo del determinante de una matriz con signo\n",
    "* Numero condicional de la matriz\n",
    "* Traza de la matriz cuadrada\n",
    "* Eigen valores"
   ]
  },
  {
   "cell_type": "code",
   "execution_count": 3,
   "metadata": {
    "scrolled": true
   },
   "outputs": [
    {
     "data": {
      "text/plain": [
       "array([[-5.37805787e+13,  1.36896018e+14, -1.13148750e+14,\n",
       "         3.07317592e+13, -6.98449074e+11],\n",
       "       [-2.27694398e+14, -1.36896018e+14,  6.76098703e+14,\n",
       "        -3.07317592e+13, -2.80776528e+14],\n",
       "       [ 3.42938495e+14, -1.56452593e+14, -5.14058518e+14,\n",
       "         1.25720833e+14,  2.01851782e+14],\n",
       "       [ 2.12328518e+14,  1.76009167e+14, -5.47584074e+14,\n",
       "        -2.82173426e+14,  4.41419815e+14],\n",
       "       [-2.73792037e+14, -1.95565741e+13,  4.98692639e+14,\n",
       "         1.56452593e+14, -3.61796620e+14]])"
      ]
     },
     "execution_count": 3,
     "metadata": {},
     "output_type": "execute_result"
    }
   ],
   "source": [
    "#Retorna la matriz inversa de un matriz cuadrada\n",
    "la.inv(mb)"
   ]
  },
  {
   "cell_type": "code",
   "execution_count": 4,
   "metadata": {},
   "outputs": [
    {
     "data": {
      "text/plain": [
       "1.6134950889225737e-42"
      ]
     },
     "execution_count": 4,
     "metadata": {},
     "output_type": "execute_result"
    }
   ],
   "source": [
    "#Retorna el determinante de una matriz cuadrada\n",
    "la.det(mb)"
   ]
  },
  {
   "cell_type": "code",
   "execution_count": 5,
   "metadata": {},
   "outputs": [
    {
     "data": {
      "text/plain": [
       "(1.0, -96.23017121698649)"
      ]
     },
     "execution_count": 5,
     "metadata": {},
     "output_type": "execute_result"
    }
   ],
   "source": [
    "#Retorna el signo de logaritmo natural del determinante y el valor del logaritmo natural del determinante\n",
    "la.slogdet(mb)"
   ]
  },
  {
   "cell_type": "code",
   "execution_count": 6,
   "metadata": {},
   "outputs": [
    {
     "data": {
      "text/plain": [
       "9.00576794385169e-18"
      ]
     },
     "execution_count": 6,
     "metadata": {},
     "output_type": "execute_result"
    }
   ],
   "source": [
    "#Retorna el numero de condicion, dependiendo del parametro de normalizacion que se le pase a la funcion \n",
    "#(ninguno, 'fro', inf, -inf, 1, -1, 2, -2)\n",
    "la.cond(mb,-2)"
   ]
  },
  {
   "cell_type": "code",
   "execution_count": 9,
   "metadata": {},
   "outputs": [
    {
     "data": {
      "text/plain": [
       "60"
      ]
     },
     "execution_count": 9,
     "metadata": {},
     "output_type": "execute_result"
    }
   ],
   "source": [
    "#Retorna la traza de la matriz, la cual es la sumatoria de los elementos de la diagonal principal\n",
    "np.trace(ma)"
   ]
  },
  {
   "cell_type": "code",
   "execution_count": 40,
   "metadata": {},
   "outputs": [
    {
     "data": {
      "text/plain": [
       "array([ 1.86341622e+02+0.00000000e+00j, -1.34162190e+00+0.00000000e+00j,\n",
       "        1.26094357e-15+0.00000000e+00j, -1.25838784e-15+2.56683375e-15j,\n",
       "       -1.25838784e-15-2.56683375e-15j])"
      ]
     },
     "execution_count": 40,
     "metadata": {},
     "output_type": "execute_result"
    }
   ],
   "source": [
    "#Retorna los eigen valores de la matriz cuadrada\n",
    "la.eigvals(mb)"
   ]
  },
  {
   "cell_type": "markdown",
   "metadata": {},
   "source": [
    "### Operaciones con matrices\n",
    "En los siguientes ejemplo se presentaran algunas de las operaciones entre matrices que se puede realizar mediante la libreria _linalg_ a continuación se muestran algunos ejemplos de operaciones mas comunes con matrices.\n",
    "* Producto punto de una matriz\n",
    "* Multiplicacion de cada uno de los elementos entre matrices\n",
    "* Resolver un sistema de ecuaciones lineal\n",
    "* Multiplicación de matrices"
   ]
  },
  {
   "cell_type": "code",
   "execution_count": 17,
   "metadata": {},
   "outputs": [
    {
     "data": {
      "text/plain": [
       "array([[  0,   5,  10,  15,  20],\n",
       "       [ 25,  30,  35,  40,  45],\n",
       "       [ 50,  55,  60,  65,  70],\n",
       "       [ 75,  80,  85,  90,  95],\n",
       "       [100, 105, 110, 115, 120]])"
      ]
     },
     "metadata": {},
     "output_type": "display_data"
    },
    {
     "data": {
      "text/plain": [
       "array([ 0,  4,  8, 12, 16])"
      ]
     },
     "metadata": {},
     "output_type": "display_data"
    }
   ],
   "source": [
    "#Multiplica un elemento para cada uno de los elementos de la matriz/el vector\n",
    "display(np.dot(5,ma))\n",
    "display(np.dot(4,a))"
   ]
  },
  {
   "cell_type": "code",
   "execution_count": 36,
   "metadata": {},
   "outputs": [
    {
     "data": {
      "text/plain": [
       "array([[ 0,  0,  0,  0,  0],\n",
       "       [ 5,  6,  7,  8,  9],\n",
       "       [10, 12, 14, 16, 18],\n",
       "       [15, 18, 21, 24, 27],\n",
       "       [20, 24, 28, 32, 36]])"
      ]
     },
     "execution_count": 36,
     "metadata": {},
     "output_type": "execute_result"
    }
   ],
   "source": [
    "#Retorna cada uno de los elementos de la matriz a con cada uno de la matriz b ya sea con matrizes o vectores\n",
    "np.outer(a,b)"
   ]
  },
  {
   "cell_type": "code",
   "execution_count": 45,
   "metadata": {},
   "outputs": [
    {
     "data": {
      "text/plain": [
       "array([ 3.27272727, -0.45454545])"
      ]
     },
     "execution_count": 45,
     "metadata": {},
     "output_type": "execute_result"
    }
   ],
   "source": [
    "la.solve([[1,5],[3,4]],[1,8])"
   ]
  },
  {
   "cell_type": "code",
   "execution_count": 48,
   "metadata": {},
   "outputs": [
    {
     "data": {
      "text/plain": [
       "array([[ 400,  410,  420,  430,  440],\n",
       "       [1275, 1310, 1345, 1380, 1415],\n",
       "       [2150, 2210, 2270, 2330, 2390],\n",
       "       [3025, 3110, 3195, 3280, 3365],\n",
       "       [3900, 4010, 4120, 4230, 4340]])"
      ]
     },
     "execution_count": 48,
     "metadata": {},
     "output_type": "execute_result"
    }
   ],
   "source": [
    "np.matmul(ma,mb)"
   ]
  }
 ],
 "metadata": {
  "kernelspec": {
   "display_name": "Python 2",
   "language": "python",
   "name": "python2"
  },
  "language_info": {
   "codemirror_mode": {
    "name": "ipython",
    "version": 2
   },
   "file_extension": ".py",
   "mimetype": "text/x-python",
   "name": "python",
   "nbconvert_exporter": "python",
   "pygments_lexer": "ipython2",
   "version": "2.7.15"
  }
 },
 "nbformat": 4,
 "nbformat_minor": 2
}
