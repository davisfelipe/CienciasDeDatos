{
 "cells": [
  {
   "cell_type": "markdown",
   "metadata": {},
   "source": [
    "#Tutorial Algebra Lineal\n",
    "##Resumen\n",
    "En el siguiente tutorial se desarrollara una pequeña implementacion que ayude al aprendiz a obtener una serie de ayudas para desarrollar operaciones de algebra lineal para vectores y matrices en **Python**, dichas operaciones se lograran gracias a la ayuda de ***numpy*** con una de sus sublibrerias denominada ***linalg*** \"***lin**ear **alg**ebra*\""
   ]
  },
  {
   "cell_type": "markdown",
   "metadata": {},
   "source": [
    "Inicialmente cargamos las librerias que usaremos, procedemos a cargar <b>numpy</b> y <b>numpy.linalg</b> respectivamente con la abreviacion que se usara dentro del codigo."
   ]
  },
  {
   "cell_type": "code",
   "execution_count": 1,
   "metadata": {},
   "outputs": [],
   "source": [
    "import numpy as np\n",
    "import numpy.linalg as la"
   ]
  },
  {
   "cell_type": "markdown",
   "metadata": {},
   "source": [
    "Posteriormente a importar las librerias a usar, debemos declarar variables con las que vamos a trabajar, en nuestro caso sera suficiente generar 2 vectores de 5 elementos y 2 matrices de 5x5."
   ]
  },
  {
   "cell_type": "code",
   "execution_count": 2,
   "metadata": {},
   "outputs": [],
   "source": [
    "a=np.arange(0,5)\n",
    "b=np.arange(5,10)\n",
    "ma=np.arange(25).reshape(5,5)\n",
    "mb=np.arange(25,50).reshape(5,5)"
   ]
  },
  {
   "cell_type": "markdown",
   "metadata": {
    "scrolled": true
   },
   "source": [
    "<h3>Propiedades de matrices</h3>\n",
    "Algunas de las propiedades mas basicas de las matrices son fundamentales al realizar operaciones en el algebra lineal fundamental, a continuacion presentaremos con algunos de los ejemplos las propiedades elementales realizadas mediante la libreria linalg.\n",
    "<ul type=\"1\">\n",
    "    <li>Matriz inversa</li>\n",
    "    <li>Determinante de la matriz</li>\n",
    "    <li>Logaritmo del determinante de una matriz con signo</li>\n",
    "    <li>Numero condicional de la matriz</li>\n",
    "</ul>"
   ]
  },
  {
   "cell_type": "code",
   "execution_count": 3,
   "metadata": {
    "scrolled": true
   },
   "outputs": [
    {
     "data": {
      "text/plain": [
       "array([[-5.37805787e+13,  1.36896018e+14, -1.13148750e+14,\n",
       "         3.07317592e+13, -6.98449074e+11],\n",
       "       [-2.27694398e+14, -1.36896018e+14,  6.76098703e+14,\n",
       "        -3.07317592e+13, -2.80776528e+14],\n",
       "       [ 3.42938495e+14, -1.56452593e+14, -5.14058518e+14,\n",
       "         1.25720833e+14,  2.01851782e+14],\n",
       "       [ 2.12328518e+14,  1.76009167e+14, -5.47584074e+14,\n",
       "        -2.82173426e+14,  4.41419815e+14],\n",
       "       [-2.73792037e+14, -1.95565741e+13,  4.98692639e+14,\n",
       "         1.56452593e+14, -3.61796620e+14]])"
      ]
     },
     "execution_count": 3,
     "metadata": {},
     "output_type": "execute_result"
    }
   ],
   "source": [
    "#Retorna la matriz inversa de un matriz cuadrada\n",
    "la.inv(mb)"
   ]
  },
  {
   "cell_type": "code",
   "execution_count": 4,
   "metadata": {},
   "outputs": [
    {
     "data": {
      "text/plain": [
       "1.6134950889225737e-42"
      ]
     },
     "execution_count": 4,
     "metadata": {},
     "output_type": "execute_result"
    }
   ],
   "source": [
    "#Retorna el determinante de una matriz cuadrada\n",
    "la.det(mb)"
   ]
  },
  {
   "cell_type": "code",
   "execution_count": 5,
   "metadata": {},
   "outputs": [
    {
     "data": {
      "text/plain": [
       "(1.0, -96.23017121698649)"
      ]
     },
     "execution_count": 5,
     "metadata": {},
     "output_type": "execute_result"
    }
   ],
   "source": [
    "#Retorna el signo de logaritmo natural del determinante y el valor del logaritmo natural del determinante\n",
    "la.slogdet(mb)"
   ]
  },
  {
   "cell_type": "code",
   "execution_count": 11,
   "metadata": {},
   "outputs": [
    {
     "data": {
      "text/plain": [
       "9.00576794385169e-18"
      ]
     },
     "execution_count": 11,
     "metadata": {},
     "output_type": "execute_result"
    }
   ],
   "source": [
    "#Retorna el numero de condicion, dependiendo del parametro de normalizacion que se le pase a la funcion \n",
    "#(ninguno, 'fro', inf, -inf, 1, -1, 2, -2)\n",
    "la.cond(mb,-2)"
   ]
  }
 ],
 "metadata": {
  "kernelspec": {
   "display_name": "Python 2",
   "language": "python",
   "name": "python2"
  },
  "language_info": {
   "codemirror_mode": {
    "name": "ipython",
    "version": 2
   },
   "file_extension": ".py",
   "mimetype": "text/x-python",
   "name": "python",
   "nbconvert_exporter": "python",
   "pygments_lexer": "ipython2",
   "version": "2.7.15"
  }
 },
 "nbformat": 4,
 "nbformat_minor": 2
}
