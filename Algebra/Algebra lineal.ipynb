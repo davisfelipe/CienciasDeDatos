{
 "cells": [
  {
   "cell_type": "markdown",
   "metadata": {},
   "source": [
    "<h1>Tutorial Algebra Lineal</h1>\n",
    "<h2>Resumen</h2>\n",
    "En el siguiente tutorial se desarrollara una pequeña implementacion que ayude al aprendiz a obtener una serie de ayudas para desarrollar operaciones de algebra lineal para vectores y matrices en <b>Python</b>, dichas operaciones se lograran gracias a la ayuda de <i><b>numpy</b></i> con una de sus sublibrerias denominada <i><b>linalg</b> \"<b>lin</b>ear <b>alg</b>ebra\"</i>"
   ]
  },
  {
   "cell_type": "markdown",
   "metadata": {},
   "source": [
    "Inicialmente cargamos las librerias que usaremos, procedemos a cargar <b>numpy</b> y <b>numpy.linalg</b> respectivamente con la abreviacion que se usara dentro del codigo."
   ]
  },
  {
   "cell_type": "code",
   "execution_count": 1,
   "metadata": {},
   "outputs": [],
   "source": [
    "import numpy as np\n",
    "import numpy.linalg as la"
   ]
  },
  {
   "cell_type": "markdown",
   "metadata": {},
   "source": [
    "Posteriormente a importar las librerias a usar, debemos declarar variables con las que vamos a trabajar, en nuestro caso sera suficiente generar 2 vectores de 5 elementos y 2 matrices de 5x5."
   ]
  },
  {
   "cell_type": "code",
   "execution_count": 2,
   "metadata": {},
   "outputs": [
    {
     "name": "stdout",
     "output_type": "stream",
     "text": [
      "[0 1 2 3 4]\n",
      "[5 6 7 8 9]\n",
      "[[ 0  1  2  3  4]\n",
      " [ 5  6  7  8  9]\n",
      " [10 11 12 13 14]\n",
      " [15 16 17 18 19]\n",
      " [20 21 22 23 24]]\n",
      "[[25 26 27 28 29]\n",
      " [30 31 32 33 34]\n",
      " [35 36 37 38 39]\n",
      " [40 41 42 43 44]\n",
      " [45 46 47 48 49]]\n"
     ]
    }
   ],
   "source": [
    "a=np.arange(0,5)\n",
    "b=np.arange(5,10)\n",
    "ma=np.arange(25).reshape(5,5)\n",
    "mb=np.arange(25,50).reshape(5,5)\n",
    "print(a)\n",
    "print(b)\n",
    "print(ma)\n",
    "print(mb)"
   ]
  },
  {
   "cell_type": "code",
   "execution_count": null,
   "metadata": {
    "scrolled": true
   },
   "outputs": [],
   "source": []
  },
  {
   "cell_type": "code",
   "execution_count": null,
   "metadata": {},
   "outputs": [],
   "source": []
  },
  {
   "cell_type": "markdown",
   "metadata": {},
   "source": []
  }
 ],
 "metadata": {
  "kernelspec": {
   "display_name": "Python 2",
   "language": "python",
   "name": "python2"
  },
  "language_info": {
   "codemirror_mode": {
    "name": "ipython",
    "version": 2
   },
   "file_extension": ".py",
   "mimetype": "text/x-python",
   "name": "python",
   "nbconvert_exporter": "python",
   "pygments_lexer": "ipython2",
   "version": "2.7.15"
  }
 },
 "nbformat": 4,
 "nbformat_minor": 2
}
